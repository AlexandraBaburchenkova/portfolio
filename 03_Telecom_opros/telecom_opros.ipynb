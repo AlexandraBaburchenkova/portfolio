{
 "cells": [
  {
   "cell_type": "code",
   "execution_count": 1,
   "id": "fc7efa54",
   "metadata": {},
   "outputs": [],
   "source": [
    "import os\n",
    "import pandas as pd\n",
    "import numpy as np\n",
    "\n",
    "from sqlalchemy import create_engine"
   ]
  },
  {
   "cell_type": "code",
   "execution_count": 2,
   "id": "0017f8e7",
   "metadata": {},
   "outputs": [],
   "source": [
    "path_to_db_local = 'telecomm_csi.db'\n",
    "path_to_db_platform = '/datasets/telecomm_csi.db'\n",
    "path_to_db = None\n",
    "\n",
    "if os.path.exists(path_to_db_local):\n",
    "    path_to_db = path_to_db_local\n",
    "elif os.path.exists(path_to_db_platform):\n",
    "    path_to_db = path_to_db_platform\n",
    "else:\n",
    "    raise Exception('Файл с базой данных SQLite не найден!')\n",
    "\n",
    "if path_to_db:\n",
    "    engine = create_engine(f'sqlite:///{path_to_db}', echo=False)"
   ]
  },
  {
   "cell_type": "code",
   "execution_count": 3,
   "id": "84ebad43",
   "metadata": {},
   "outputs": [],
   "source": [
    "query = \"\"\"\n",
    "SELECT  user_id,\n",
    "        lt_day,\n",
    "       CASE \n",
    "           WHEN lt_day<=365 THEN 'новый'\n",
    "           WHEN lt_day>365 THEN 'не новый'\n",
    "           END as is_new,\n",
    "        age,\n",
    "       CASE \n",
    "           WHEN gender_segment=0 THEN 'мужчина'\n",
    "           WHEN gender_segment=1 THEN 'женщина'\n",
    "           END as gender_segment,\n",
    "        os_name,\n",
    "        cpe_type_name,\n",
    "        country,\n",
    "        city,\n",
    "        a.title as age_segment,\n",
    "        t.title as traffic_segment,\n",
    "        lt.title as lifetime_segment,\n",
    "        nps_score,\n",
    "       CASE \n",
    "           WHEN nps_score<=6 THEN 'критики'\n",
    "           WHEN nps_score>8 THEN 'cторонники'\n",
    "           WHEN nps_score>6 and nps_score<9  THEN 'нейтралы'\n",
    "           END as nps_group\n",
    "FROM user as u\n",
    "LEFT OUTER JOIN location AS l ON u.location_id = l.location_id\n",
    "LEFT OUTER JOIN age_segment AS a ON u.age_gr_id = a.age_gr_id\n",
    "LEFT OUTER JOIN traffic_segment AS t ON u.tr_gr_id = t.tr_gr_id\n",
    "LEFT OUTER JOIN lifetime_segment AS lt ON u.lt_gr_id = lt.lt_gr_id;\n",
    "\"\"\""
   ]
  },
  {
   "cell_type": "code",
   "execution_count": 4,
   "id": "3965faf2",
   "metadata": {},
   "outputs": [
    {
     "data": {
      "text/html": [
       "<div>\n",
       "<style scoped>\n",
       "    .dataframe tbody tr th:only-of-type {\n",
       "        vertical-align: middle;\n",
       "    }\n",
       "\n",
       "    .dataframe tbody tr th {\n",
       "        vertical-align: top;\n",
       "    }\n",
       "\n",
       "    .dataframe thead th {\n",
       "        text-align: right;\n",
       "    }\n",
       "</style>\n",
       "<table border=\"1\" class=\"dataframe\">\n",
       "  <thead>\n",
       "    <tr style=\"text-align: right;\">\n",
       "      <th></th>\n",
       "      <th>user_id</th>\n",
       "      <th>lt_day</th>\n",
       "      <th>is_new</th>\n",
       "      <th>age</th>\n",
       "      <th>gender_segment</th>\n",
       "      <th>os_name</th>\n",
       "      <th>cpe_type_name</th>\n",
       "      <th>country</th>\n",
       "      <th>city</th>\n",
       "      <th>age_segment</th>\n",
       "      <th>traffic_segment</th>\n",
       "      <th>lifetime_segment</th>\n",
       "      <th>nps_score</th>\n",
       "      <th>nps_group</th>\n",
       "    </tr>\n",
       "  </thead>\n",
       "  <tbody>\n",
       "    <tr>\n",
       "      <th>388200</th>\n",
       "      <td>U37FG0</td>\n",
       "      <td>116</td>\n",
       "      <td>новый</td>\n",
       "      <td>45.0</td>\n",
       "      <td>мужчина</td>\n",
       "      <td>ANDROID</td>\n",
       "      <td>TABLET</td>\n",
       "      <td>Россия</td>\n",
       "      <td>НижнийНовгород</td>\n",
       "      <td>05 45-54</td>\n",
       "      <td>04 1-5</td>\n",
       "      <td>04 4-6</td>\n",
       "      <td>10</td>\n",
       "      <td>cторонники</td>\n",
       "    </tr>\n",
       "    <tr>\n",
       "      <th>322051</th>\n",
       "      <td>QNXZ4Q</td>\n",
       "      <td>151</td>\n",
       "      <td>новый</td>\n",
       "      <td>40.0</td>\n",
       "      <td>женщина</td>\n",
       "      <td>ANDROID</td>\n",
       "      <td>SMARTPHONE</td>\n",
       "      <td>Россия</td>\n",
       "      <td>Уфа</td>\n",
       "      <td>04 35-44</td>\n",
       "      <td>04 1-5</td>\n",
       "      <td>04 4-6</td>\n",
       "      <td>10</td>\n",
       "      <td>cторонники</td>\n",
       "    </tr>\n",
       "    <tr>\n",
       "      <th>124418</th>\n",
       "      <td>GEO8N9</td>\n",
       "      <td>1114</td>\n",
       "      <td>не новый</td>\n",
       "      <td>27.0</td>\n",
       "      <td>мужчина</td>\n",
       "      <td>ANDROID</td>\n",
       "      <td>SMARTPHONE</td>\n",
       "      <td>Россия</td>\n",
       "      <td>Уфа</td>\n",
       "      <td>03 25-34</td>\n",
       "      <td>07 15-20</td>\n",
       "      <td>08 36+</td>\n",
       "      <td>1</td>\n",
       "      <td>критики</td>\n",
       "    </tr>\n",
       "    <tr>\n",
       "      <th>161126</th>\n",
       "      <td>IBJ55Q</td>\n",
       "      <td>76</td>\n",
       "      <td>новый</td>\n",
       "      <td>28.0</td>\n",
       "      <td>мужчина</td>\n",
       "      <td>ANDROID</td>\n",
       "      <td>SMARTPHONE</td>\n",
       "      <td>Россия</td>\n",
       "      <td>Тверь</td>\n",
       "      <td>03 25-34</td>\n",
       "      <td>04 1-5</td>\n",
       "      <td>03 3</td>\n",
       "      <td>10</td>\n",
       "      <td>cторонники</td>\n",
       "    </tr>\n",
       "    <tr>\n",
       "      <th>65644</th>\n",
       "      <td>DDQRHX</td>\n",
       "      <td>1076</td>\n",
       "      <td>не новый</td>\n",
       "      <td>52.0</td>\n",
       "      <td>мужчина</td>\n",
       "      <td>ANDROID</td>\n",
       "      <td>TABLET</td>\n",
       "      <td>Россия</td>\n",
       "      <td>Москва</td>\n",
       "      <td>05 45-54</td>\n",
       "      <td>03 0.1-1</td>\n",
       "      <td>07 25-36</td>\n",
       "      <td>7</td>\n",
       "      <td>нейтралы</td>\n",
       "    </tr>\n",
       "    <tr>\n",
       "      <th>193534</th>\n",
       "      <td>K025VK</td>\n",
       "      <td>1160</td>\n",
       "      <td>не новый</td>\n",
       "      <td>42.0</td>\n",
       "      <td>женщина</td>\n",
       "      <td>ANDROID</td>\n",
       "      <td>SMARTPHONE</td>\n",
       "      <td>Россия</td>\n",
       "      <td>НижнийНовгород</td>\n",
       "      <td>04 35-44</td>\n",
       "      <td>04 1-5</td>\n",
       "      <td>08 36+</td>\n",
       "      <td>10</td>\n",
       "      <td>cторонники</td>\n",
       "    </tr>\n",
       "    <tr>\n",
       "      <th>19555</th>\n",
       "      <td>B0A5NC</td>\n",
       "      <td>578</td>\n",
       "      <td>не новый</td>\n",
       "      <td>29.0</td>\n",
       "      <td>мужчина</td>\n",
       "      <td>IOS</td>\n",
       "      <td>SMARTPHONE</td>\n",
       "      <td>Россия</td>\n",
       "      <td>Москва</td>\n",
       "      <td>03 25-34</td>\n",
       "      <td>07 15-20</td>\n",
       "      <td>06 13-24</td>\n",
       "      <td>9</td>\n",
       "      <td>cторонники</td>\n",
       "    </tr>\n",
       "    <tr>\n",
       "      <th>465129</th>\n",
       "      <td>Y2EY8G</td>\n",
       "      <td>1682</td>\n",
       "      <td>не новый</td>\n",
       "      <td>39.0</td>\n",
       "      <td>мужчина</td>\n",
       "      <td>ANDROID</td>\n",
       "      <td>SMARTPHONE</td>\n",
       "      <td>Россия</td>\n",
       "      <td>Астрахань</td>\n",
       "      <td>04 35-44</td>\n",
       "      <td>09 25-30</td>\n",
       "      <td>08 36+</td>\n",
       "      <td>10</td>\n",
       "      <td>cторонники</td>\n",
       "    </tr>\n",
       "    <tr>\n",
       "      <th>297102</th>\n",
       "      <td>PDAY3W</td>\n",
       "      <td>3235</td>\n",
       "      <td>не новый</td>\n",
       "      <td>57.0</td>\n",
       "      <td>женщина</td>\n",
       "      <td>ANDROID</td>\n",
       "      <td>SMARTPHONE</td>\n",
       "      <td>Россия</td>\n",
       "      <td>Саратов</td>\n",
       "      <td>06 55-64</td>\n",
       "      <td>05 5-10</td>\n",
       "      <td>08 36+</td>\n",
       "      <td>5</td>\n",
       "      <td>критики</td>\n",
       "    </tr>\n",
       "    <tr>\n",
       "      <th>75573</th>\n",
       "      <td>DW7DN8</td>\n",
       "      <td>198</td>\n",
       "      <td>новый</td>\n",
       "      <td>36.0</td>\n",
       "      <td>мужчина</td>\n",
       "      <td>ANDROID</td>\n",
       "      <td>SMARTPHONE</td>\n",
       "      <td>Россия</td>\n",
       "      <td>Новосибирск</td>\n",
       "      <td>04 35-44</td>\n",
       "      <td>07 15-20</td>\n",
       "      <td>05 7-12</td>\n",
       "      <td>10</td>\n",
       "      <td>cторонники</td>\n",
       "    </tr>\n",
       "  </tbody>\n",
       "</table>\n",
       "</div>"
      ],
      "text/plain": [
       "       user_id  lt_day    is_new   age gender_segment  os_name cpe_type_name  \\\n",
       "388200  U37FG0     116     новый  45.0        мужчина  ANDROID        TABLET   \n",
       "322051  QNXZ4Q     151     новый  40.0        женщина  ANDROID    SMARTPHONE   \n",
       "124418  GEO8N9    1114  не новый  27.0        мужчина  ANDROID    SMARTPHONE   \n",
       "161126  IBJ55Q      76     новый  28.0        мужчина  ANDROID    SMARTPHONE   \n",
       "65644   DDQRHX    1076  не новый  52.0        мужчина  ANDROID        TABLET   \n",
       "193534  K025VK    1160  не новый  42.0        женщина  ANDROID    SMARTPHONE   \n",
       "19555   B0A5NC     578  не новый  29.0        мужчина      IOS    SMARTPHONE   \n",
       "465129  Y2EY8G    1682  не новый  39.0        мужчина  ANDROID    SMARTPHONE   \n",
       "297102  PDAY3W    3235  не новый  57.0        женщина  ANDROID    SMARTPHONE   \n",
       "75573   DW7DN8     198     новый  36.0        мужчина  ANDROID    SMARTPHONE   \n",
       "\n",
       "       country            city age_segment traffic_segment lifetime_segment  \\\n",
       "388200  Россия  НижнийНовгород    05 45-54          04 1-5           04 4-6   \n",
       "322051  Россия             Уфа    04 35-44          04 1-5           04 4-6   \n",
       "124418  Россия             Уфа    03 25-34        07 15-20           08 36+   \n",
       "161126  Россия           Тверь    03 25-34          04 1-5             03 3   \n",
       "65644   Россия          Москва    05 45-54        03 0.1-1         07 25-36   \n",
       "193534  Россия  НижнийНовгород    04 35-44          04 1-5           08 36+   \n",
       "19555   Россия          Москва    03 25-34        07 15-20         06 13-24   \n",
       "465129  Россия       Астрахань    04 35-44        09 25-30           08 36+   \n",
       "297102  Россия         Саратов    06 55-64         05 5-10           08 36+   \n",
       "75573   Россия     Новосибирск    04 35-44        07 15-20          05 7-12   \n",
       "\n",
       "        nps_score   nps_group  \n",
       "388200         10  cторонники  \n",
       "322051         10  cторонники  \n",
       "124418          1     критики  \n",
       "161126         10  cторонники  \n",
       "65644           7    нейтралы  \n",
       "193534         10  cторонники  \n",
       "19555           9  cторонники  \n",
       "465129         10  cторонники  \n",
       "297102          5     критики  \n",
       "75573          10  cторонники  "
      ]
     },
     "execution_count": 4,
     "metadata": {},
     "output_type": "execute_result"
    }
   ],
   "source": [
    "df = pd.read_sql(query, engine)\n",
    "df.sample(10)"
   ]
  },
  {
   "cell_type": "code",
   "execution_count": 5,
   "id": "4e4e19e8",
   "metadata": {},
   "outputs": [
    {
     "name": "stdout",
     "output_type": "stream",
     "text": [
      "<class 'pandas.core.frame.DataFrame'>\n",
      "RangeIndex: 502493 entries, 0 to 502492\n",
      "Data columns (total 14 columns):\n",
      " #   Column            Non-Null Count   Dtype  \n",
      "---  ------            --------------   -----  \n",
      " 0   user_id           502493 non-null  object \n",
      " 1   lt_day            502493 non-null  int64  \n",
      " 2   is_new            502493 non-null  object \n",
      " 3   age               501939 non-null  float64\n",
      " 4   gender_segment    501192 non-null  object \n",
      " 5   os_name           502493 non-null  object \n",
      " 6   cpe_type_name     502493 non-null  object \n",
      " 7   country           502493 non-null  object \n",
      " 8   city              502493 non-null  object \n",
      " 9   age_segment       502493 non-null  object \n",
      " 10  traffic_segment   502493 non-null  object \n",
      " 11  lifetime_segment  502493 non-null  object \n",
      " 12  nps_score         502493 non-null  int64  \n",
      " 13  nps_group         502493 non-null  object \n",
      "dtypes: float64(1), int64(2), object(11)\n",
      "memory usage: 53.7+ MB\n"
     ]
    }
   ],
   "source": [
    "df.info()"
   ]
  },
  {
   "cell_type": "markdown",
   "id": "ff6766a1",
   "metadata": {},
   "source": [
    "Всего наблюдений - 52493. Есть пропуски в данных о возрасте и поле.\n",
    "Т.к. в анализе будут использованы возрастные категории, определяемые полем age_segment, которое взято из отдельной таблицы, не будем заполнять пропуски в поле age.\n",
    "Пропуски в данных о поле заполнить не представляется возможным."
   ]
  },
  {
   "cell_type": "code",
   "execution_count": 6,
   "id": "e177d470",
   "metadata": {},
   "outputs": [
    {
     "data": {
      "text/plain": [
       "array(['05 45-54', '06 55-64', '04 35-44', '02 16-24', '03 25-34',\n",
       "       '07 66 +', '01 до 16', '08 n/a'], dtype=object)"
      ]
     },
     "execution_count": 6,
     "metadata": {},
     "output_type": "execute_result"
    }
   ],
   "source": [
    "df['age_segment'].unique()"
   ]
  },
  {
   "cell_type": "code",
   "execution_count": 7,
   "id": "88f33b5e",
   "metadata": {},
   "outputs": [
    {
     "data": {
      "text/html": [
       "<div>\n",
       "<style scoped>\n",
       "    .dataframe tbody tr th:only-of-type {\n",
       "        vertical-align: middle;\n",
       "    }\n",
       "\n",
       "    .dataframe tbody tr th {\n",
       "        vertical-align: top;\n",
       "    }\n",
       "\n",
       "    .dataframe thead th {\n",
       "        text-align: right;\n",
       "    }\n",
       "</style>\n",
       "<table border=\"1\" class=\"dataframe\">\n",
       "  <thead>\n",
       "    <tr style=\"text-align: right;\">\n",
       "      <th></th>\n",
       "      <th>lt_day</th>\n",
       "      <th>age</th>\n",
       "      <th>nps_score</th>\n",
       "    </tr>\n",
       "  </thead>\n",
       "  <tbody>\n",
       "    <tr>\n",
       "      <th>count</th>\n",
       "      <td>502493.000000</td>\n",
       "      <td>501939.000000</td>\n",
       "      <td>502493.000000</td>\n",
       "    </tr>\n",
       "    <tr>\n",
       "      <th>mean</th>\n",
       "      <td>1868.841439</td>\n",
       "      <td>39.621946</td>\n",
       "      <td>7.508562</td>\n",
       "    </tr>\n",
       "    <tr>\n",
       "      <th>std</th>\n",
       "      <td>1683.701762</td>\n",
       "      <td>11.188249</td>\n",
       "      <td>3.020378</td>\n",
       "    </tr>\n",
       "    <tr>\n",
       "      <th>min</th>\n",
       "      <td>-21.000000</td>\n",
       "      <td>10.000000</td>\n",
       "      <td>1.000000</td>\n",
       "    </tr>\n",
       "    <tr>\n",
       "      <th>25%</th>\n",
       "      <td>533.000000</td>\n",
       "      <td>31.000000</td>\n",
       "      <td>5.000000</td>\n",
       "    </tr>\n",
       "    <tr>\n",
       "      <th>50%</th>\n",
       "      <td>1239.000000</td>\n",
       "      <td>38.000000</td>\n",
       "      <td>9.000000</td>\n",
       "    </tr>\n",
       "    <tr>\n",
       "      <th>75%</th>\n",
       "      <td>3064.000000</td>\n",
       "      <td>47.000000</td>\n",
       "      <td>10.000000</td>\n",
       "    </tr>\n",
       "    <tr>\n",
       "      <th>max</th>\n",
       "      <td>9162.000000</td>\n",
       "      <td>89.000000</td>\n",
       "      <td>10.000000</td>\n",
       "    </tr>\n",
       "  </tbody>\n",
       "</table>\n",
       "</div>"
      ],
      "text/plain": [
       "              lt_day            age      nps_score\n",
       "count  502493.000000  501939.000000  502493.000000\n",
       "mean     1868.841439      39.621946       7.508562\n",
       "std      1683.701762      11.188249       3.020378\n",
       "min       -21.000000      10.000000       1.000000\n",
       "25%       533.000000      31.000000       5.000000\n",
       "50%      1239.000000      38.000000       9.000000\n",
       "75%      3064.000000      47.000000      10.000000\n",
       "max      9162.000000      89.000000      10.000000"
      ]
     },
     "execution_count": 7,
     "metadata": {},
     "output_type": "execute_result"
    }
   ],
   "source": [
    "df.describe()"
   ]
  },
  {
   "cell_type": "code",
   "execution_count": 8,
   "id": "d1d23bf4",
   "metadata": {},
   "outputs": [
    {
     "data": {
      "text/plain": [
       "array(['08 36+', '06 13-24', '05 7-12', '04 4-6', '07 25-36', '02 2',\n",
       "       '03 3', '01 1'], dtype=object)"
      ]
     },
     "execution_count": 8,
     "metadata": {},
     "output_type": "execute_result"
    }
   ],
   "source": [
    "df['lifetime_segment'].unique()"
   ]
  },
  {
   "cell_type": "markdown",
   "id": "2bc2ff11",
   "metadata": {},
   "source": [
    "Есть аномальное значение количества дней жизни -21, но т.к. поле lt_day используется только для определения категории клиента новый/не новый, а при такой аномалии категория определится верно как \"новый\", наличие данной аномалии не повлияет на построение дашбордов.\n"
   ]
  },
  {
   "cell_type": "markdown",
   "id": "f19c610c",
   "metadata": {},
   "source": [
    "Ссылка на дашборд:\n",
    "https://public.tableau.com/views/telecom_17144126741380/NPS_8?:language=en-US&publish=yes&:sid=&:display_count=n&:origin=viz_share_link"
   ]
  },
  {
   "cell_type": "markdown",
   "id": "8936c6c3",
   "metadata": {},
   "source": [
    "Выводы в соответствии с условием задачи размещены на дашборде."
   ]
  }
 ],
 "metadata": {
  "ExecuteTimeLog": [
   {
    "duration": 528,
    "start_time": "2024-04-29T06:36:08.037Z"
   },
   {
    "duration": 63,
    "start_time": "2024-04-29T06:36:08.753Z"
   },
   {
    "duration": 3,
    "start_time": "2024-04-29T06:36:09.936Z"
   },
   {
    "duration": 3490,
    "start_time": "2024-04-29T06:36:11.185Z"
   },
   {
    "duration": 2,
    "start_time": "2024-04-29T10:02:05.555Z"
   },
   {
    "duration": 364,
    "start_time": "2024-04-29T10:02:06.340Z"
   },
   {
    "duration": 3,
    "start_time": "2024-04-29T10:02:43.204Z"
   },
   {
    "duration": 295,
    "start_time": "2024-04-29T10:02:46.684Z"
   },
   {
    "duration": 2,
    "start_time": "2024-04-29T10:05:17.073Z"
   },
   {
    "duration": 4018,
    "start_time": "2024-04-29T10:05:17.840Z"
   },
   {
    "duration": 3,
    "start_time": "2024-04-29T10:10:26.787Z"
   },
   {
    "duration": 3250,
    "start_time": "2024-04-29T10:10:28.372Z"
   },
   {
    "duration": 3,
    "start_time": "2024-04-29T10:30:10.726Z"
   },
   {
    "duration": 325,
    "start_time": "2024-04-29T10:30:11.853Z"
   },
   {
    "duration": 2,
    "start_time": "2024-04-29T10:30:53.285Z"
   },
   {
    "duration": 535,
    "start_time": "2024-04-29T10:30:54.061Z"
   },
   {
    "duration": 2,
    "start_time": "2024-04-29T10:31:34.996Z"
   },
   {
    "duration": 3502,
    "start_time": "2024-04-29T10:31:37.451Z"
   },
   {
    "duration": 2,
    "start_time": "2024-04-29T10:33:53.385Z"
   },
   {
    "duration": 3322,
    "start_time": "2024-04-29T10:33:57.512Z"
   },
   {
    "duration": 3,
    "start_time": "2024-04-29T10:34:43.895Z"
   },
   {
    "duration": 3552,
    "start_time": "2024-04-29T10:34:46.159Z"
   },
   {
    "duration": 2,
    "start_time": "2024-04-29T10:45:08.210Z"
   },
   {
    "duration": 3652,
    "start_time": "2024-04-29T10:45:12.505Z"
   },
   {
    "duration": 3743,
    "start_time": "2024-04-29T10:45:22.809Z"
   },
   {
    "duration": 3679,
    "start_time": "2024-04-29T10:46:10.535Z"
   },
   {
    "duration": 3658,
    "start_time": "2024-04-29T10:46:45.407Z"
   },
   {
    "duration": 3759,
    "start_time": "2024-04-29T10:47:33.368Z"
   },
   {
    "duration": 3,
    "start_time": "2024-04-29T10:51:40.163Z"
   },
   {
    "duration": 4073,
    "start_time": "2024-04-29T10:51:41.233Z"
   },
   {
    "duration": 3,
    "start_time": "2024-04-29T10:56:32.242Z"
   },
   {
    "duration": 11,
    "start_time": "2024-04-29T10:58:25.127Z"
   },
   {
    "duration": 38,
    "start_time": "2024-04-29T10:58:36.086Z"
   },
   {
    "duration": 504,
    "start_time": "2024-04-29T10:58:47.048Z"
   },
   {
    "duration": 67,
    "start_time": "2024-04-29T10:58:47.553Z"
   },
   {
    "duration": 3,
    "start_time": "2024-04-29T10:58:47.621Z"
   },
   {
    "duration": 4312,
    "start_time": "2024-04-29T10:58:47.626Z"
   },
   {
    "duration": 3435,
    "start_time": "2024-04-29T10:58:51.940Z"
   },
   {
    "duration": 2,
    "start_time": "2024-04-29T11:13:43.411Z"
   },
   {
    "duration": 4729,
    "start_time": "2024-04-29T11:13:44.430Z"
   },
   {
    "duration": 3,
    "start_time": "2024-04-29T11:17:04.566Z"
   },
   {
    "duration": 4829,
    "start_time": "2024-04-29T11:17:05.422Z"
   },
   {
    "duration": 4,
    "start_time": "2024-04-29T11:20:03.498Z"
   },
   {
    "duration": 5292,
    "start_time": "2024-04-29T11:20:04.385Z"
   },
   {
    "duration": 4619,
    "start_time": "2024-04-29T11:27:53.023Z"
   },
   {
    "duration": 2,
    "start_time": "2024-04-29T11:37:24.321Z"
   },
   {
    "duration": 794,
    "start_time": "2024-04-29T11:37:26.372Z"
   },
   {
    "duration": 3,
    "start_time": "2024-04-29T11:38:23.410Z"
   },
   {
    "duration": 491,
    "start_time": "2024-04-29T11:38:24.046Z"
   },
   {
    "duration": 2,
    "start_time": "2024-04-29T11:38:41.299Z"
   },
   {
    "duration": 490,
    "start_time": "2024-04-29T11:38:41.840Z"
   },
   {
    "duration": 3,
    "start_time": "2024-04-29T11:39:33.935Z"
   },
   {
    "duration": 493,
    "start_time": "2024-04-29T11:39:34.511Z"
   },
   {
    "duration": 827,
    "start_time": "2024-04-29T11:40:06.326Z"
   },
   {
    "duration": 494,
    "start_time": "2024-04-29T11:40:28.725Z"
   },
   {
    "duration": 493,
    "start_time": "2024-04-29T11:40:43.303Z"
   },
   {
    "duration": 495,
    "start_time": "2024-04-29T11:40:58.141Z"
   },
   {
    "duration": 2,
    "start_time": "2024-04-29T11:42:11.340Z"
   },
   {
    "duration": 5046,
    "start_time": "2024-04-29T11:42:15.699Z"
   },
   {
    "duration": 4273,
    "start_time": "2024-04-29T11:42:24.707Z"
   },
   {
    "duration": 3,
    "start_time": "2024-04-29T12:34:57.916Z"
   },
   {
    "duration": 5563,
    "start_time": "2024-04-29T12:34:58.666Z"
   },
   {
    "duration": 5075,
    "start_time": "2024-04-29T12:35:08.706Z"
   },
   {
    "duration": 4874,
    "start_time": "2024-04-29T12:41:35.706Z"
   },
   {
    "duration": 46,
    "start_time": "2024-04-30T06:01:06.989Z"
   },
   {
    "duration": 542,
    "start_time": "2024-04-30T06:01:39.452Z"
   },
   {
    "duration": 84,
    "start_time": "2024-04-30T06:01:39.996Z"
   },
   {
    "duration": 2,
    "start_time": "2024-04-30T06:01:40.081Z"
   },
   {
    "duration": 6,
    "start_time": "2024-04-30T06:01:40.085Z"
   },
   {
    "duration": 8,
    "start_time": "2024-04-30T06:01:40.092Z"
   },
   {
    "duration": 5303,
    "start_time": "2024-04-30T06:01:40.102Z"
   },
   {
    "duration": 2,
    "start_time": "2024-04-30T06:01:45.407Z"
   },
   {
    "duration": 536,
    "start_time": "2024-04-30T06:01:59.808Z"
   },
   {
    "duration": 512,
    "start_time": "2024-05-02T17:19:14.488Z"
   },
   {
    "duration": 87,
    "start_time": "2024-05-02T17:19:15.001Z"
   },
   {
    "duration": 2,
    "start_time": "2024-05-02T17:19:15.090Z"
   },
   {
    "duration": 25,
    "start_time": "2024-05-02T17:19:15.093Z"
   },
   {
    "duration": 27,
    "start_time": "2024-05-02T17:19:15.120Z"
   },
   {
    "duration": 5398,
    "start_time": "2024-05-02T17:19:15.149Z"
   },
   {
    "duration": 3,
    "start_time": "2024-05-02T17:19:20.548Z"
   },
   {
    "duration": 534,
    "start_time": "2024-05-02T17:19:20.552Z"
   },
   {
    "duration": 2863,
    "start_time": "2024-05-02T17:19:54.521Z"
   },
   {
    "duration": 42,
    "start_time": "2024-05-11T06:46:14.336Z"
   },
   {
    "duration": 467,
    "start_time": "2024-05-11T06:46:22.772Z"
   },
   {
    "duration": 75,
    "start_time": "2024-05-11T06:46:23.241Z"
   },
   {
    "duration": 2,
    "start_time": "2024-05-11T06:46:23.317Z"
   },
   {
    "duration": 7,
    "start_time": "2024-05-11T06:46:23.321Z"
   },
   {
    "duration": 4585,
    "start_time": "2024-05-11T06:46:23.329Z"
   },
   {
    "duration": 3,
    "start_time": "2024-05-11T06:46:27.915Z"
   },
   {
    "duration": 466,
    "start_time": "2024-05-11T06:46:27.919Z"
   },
   {
    "duration": 70,
    "start_time": "2024-05-11T06:48:27.014Z"
   },
   {
    "duration": 65,
    "start_time": "2024-05-11T06:50:15.444Z"
   },
   {
    "duration": 4430,
    "start_time": "2024-05-11T06:55:07.773Z"
   },
   {
    "duration": 71,
    "start_time": "2024-05-11T06:59:10.456Z"
   },
   {
    "duration": 59,
    "start_time": "2024-05-11T07:00:20.143Z"
   },
   {
    "duration": 33,
    "start_time": "2024-05-11T07:00:35.658Z"
   },
   {
    "duration": 547,
    "start_time": "2025-05-15T06:54:12.149Z"
   },
   {
    "duration": 71,
    "start_time": "2025-05-15T06:54:12.698Z"
   },
   {
    "duration": 3,
    "start_time": "2025-05-15T06:54:12.770Z"
   },
   {
    "duration": 5471,
    "start_time": "2025-05-15T06:54:12.775Z"
   },
   {
    "duration": 620,
    "start_time": "2025-05-15T06:54:18.248Z"
   },
   {
    "duration": 114,
    "start_time": "2025-05-15T06:54:18.869Z"
   },
   {
    "duration": 76,
    "start_time": "2025-05-15T06:54:18.984Z"
   },
   {
    "duration": 116,
    "start_time": "2025-05-15T06:54:19.062Z"
   }
  ],
  "kernelspec": {
   "display_name": "Python 3 (ipykernel)",
   "language": "python",
   "name": "python3"
  },
  "language_info": {
   "codemirror_mode": {
    "name": "ipython",
    "version": 3
   },
   "file_extension": ".py",
   "mimetype": "text/x-python",
   "name": "python",
   "nbconvert_exporter": "python",
   "pygments_lexer": "ipython3",
   "version": "3.9.5"
  },
  "toc": {
   "base_numbering": 1,
   "nav_menu": {},
   "number_sections": true,
   "sideBar": true,
   "skip_h1_title": true,
   "title_cell": "Table of Contents",
   "title_sidebar": "Contents",
   "toc_cell": false,
   "toc_position": {},
   "toc_section_display": true,
   "toc_window_display": false
  }
 },
 "nbformat": 4,
 "nbformat_minor": 5
}
